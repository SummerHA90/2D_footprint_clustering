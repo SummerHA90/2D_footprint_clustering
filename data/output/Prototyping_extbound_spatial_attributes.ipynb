{
 "cells": [
  {
   "cell_type": "markdown",
   "id": "2818fb8a-5fa8-4292-84c4-cc3b65f820f9",
   "metadata": {},
   "source": [
    "**Author:** Summer </br>\n",
    "**Task:** 2D footprint clustering (exterior boundaries of building footprints)"
   ]
  },
  {
   "cell_type": "markdown",
   "id": "c58d6051-c9dd-42f3-aabb-e1250f250861",
   "metadata": {},
   "source": [
    "## PART I: Skeleton Graph Computation\n",
    "### **Step 1: Medial Axis Approximation (Approach 4 Point reduction and edge construction in step 1, scikit geometry in step 2)**\n",
    "\n",
    "**1.1 Load data and plot edges and points**"
   ]
  },
  {
   "cell_type": "code",
   "execution_count": null,
   "id": "b4b603b8-43fc-496f-8471-49fa5a0b911e",
   "metadata": {},
   "outputs": [],
   "source": []
  },
  {
   "cell_type": "markdown",
   "id": "df20928e-9439-4772-8bcf-3ad6287ca16f",
   "metadata": {},
   "source": [
    "Can continue using networkx graphs, but use `igraph` to convert networkx graph to igraph `Graph` since [Togninalli et al. (2019)'s](https://arxiv.org/pdf/1906.01277) `wwl()` works with igraph, where the kernel function `wwl()` takes as input a list of igraph `Graph` objects."
   ]
  },
  {
   "cell_type": "code",
   "execution_count": null,
   "id": "0c895c0f-302c-43e0-bfcb-96e0356421c2",
   "metadata": {},
   "outputs": [],
   "source": []
  }
 ],
 "metadata": {
  "kernelspec": {
   "display_name": "Python 3 (ipykernel)",
   "language": "python",
   "name": "python3"
  },
  "language_info": {
   "codemirror_mode": {
    "name": "ipython",
    "version": 3
   },
   "file_extension": ".py",
   "mimetype": "text/x-python",
   "name": "python",
   "nbconvert_exporter": "python",
   "pygments_lexer": "ipython3",
   "version": "3.10.12"
  }
 },
 "nbformat": 4,
 "nbformat_minor": 5
}
